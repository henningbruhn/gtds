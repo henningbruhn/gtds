{
 "cells": [
  {
   "cell_type": "markdown",
   "id": "81d8c8fe-dd68-4863-93a1-511d52596cee",
   "metadata": {},
   "source": [
    "# Centrality measures\n",
    "\n",
    "To demonstrate centrality measures we download the citation graph on US patents from 1975-1999. The data is available [here](https://www.nber.org/research/data/us-patents-1975-1999), where also detailed information on the data can be found. By the way, yes, I know the dataset is not exactly up-to-date. There is a slightly more up-to-date dataset [available](https://sites.google.com/site/patentdataproject/Home/downloads?authuser=0) on the internet but that also only covers patents up to 2004. You can, however, get access to current but raw patent data via the US patent office (search for bulk access on https://www.uspto.gov/). As the amount of data becomes huge very quickly I've decided to work with the smaller and pre-cleaned dataset of the years 1975-1999.\n",
    "\n",
    "Centrality measures as well as general graph theoretical concepts and methods are implemented in the package [networkx](https://networkx.org/), which we'll use here. \n"
   ]
  },
  {
   "cell_type": "code",
   "execution_count": 1,
   "id": "b3ddc256-bdee-4006-9dfc-509e01419143",
   "metadata": {},
   "outputs": [],
   "source": [
    "import networkx as nx \n",
    "import pandas as pd # tabular data\n",
    "import operator"
   ]
  },
  {
   "cell_type": "markdown",
   "id": "9d1ea2dd-7040-4c4f-b61a-f2a66b288cec",
   "metadata": {},
   "source": [
    "## Read in data\n",
    "\n",
    "We download an unpack the data. The data comes in three pieces: the actual citation graph, in which the patents are identified by their patent id; context information on the patents; and a file that maps patent ids to the names of the patent holders (for some reason the name is not found in the context data). \n",
    "\n",
    "Unfortunately, the download may be slow."
   ]
  },
  {
   "cell_type": "code",
   "execution_count": 105,
   "id": "5bfc6c27-b2cc-4e1b-8379-573064a7a69b",
   "metadata": {},
   "outputs": [
    {
     "name": "stdout",
     "output_type": "stream",
     "text": [
      "acite75_99.zip      100%[===================>]  78,60M   161KB/s    in 7m 37s  \n",
      "apat63_99.zip       100%[===================>]  53,94M  74,8KB/s    in 9m 4s   \n",
      "aconame.zip         100%[===================>]   1,89M   250KB/s    in 7,2s    \n"
     ]
    }
   ],
   "source": [
    "!wget -q --show-progress https://data.nber.org/patents/acite75_99.zip\n",
    "!unzip -q acite75_99.zip\n",
    "\n",
    "!wget -q --show-progress https://data.nber.org/patents/apat63_99.zip\n",
    "!unzip -q apat63_99.zip\n",
    "\n",
    "!wget -q --show-progress https://data.nber.org/patents/aconame.zip\n",
    "!unzip -q aconame.zip"
   ]
  },
  {
   "cell_type": "markdown",
   "id": "1e994e5b-1bfb-4e74-8ca5-b7de94b1547c",
   "metadata": {},
   "source": [
    "We read in the graph. As citations are not symmetric (ie, if patent A cites patent B, then B does not necessarily cites A) we'll encode the graph as digraph. The first line of the file reads <code>\"CITING\",\"CITED\"</code>. To prevent that the first line is interpreted as an edge between a vertex <code>\"CITING\"</code> and a vertex <code>\"CITED\"</code>, we tell <code>networkx</code> that a quotation mark starts a comment. (It would be cleaner if we could tell <code>networkx</code> to simply skip the first line but that is unfortunately not an option.) \n",
    "\n",
    "To get a bit of information on how large the citation graph is, we print out the number of vertices, the number of edges and the density."
   ]
  },
  {
   "cell_type": "code",
   "execution_count": 63,
   "id": "046fa205-9972-4e37-91eb-40928a4c9da5",
   "metadata": {},
   "outputs": [],
   "source": [
    "G=nx.read_adjlist(\"cite75_99.txt\",delimiter=',',comments='\"',create_using=nx.DiGraph)\n",
    "\n",
    "G.number_of_nodes(),G.number_of_edges(),nx.density(G)"
   ]
  },
  {
   "cell_type": "markdown",
   "id": "c74ce425-a38f-42e2-a11d-68f231c96e43",
   "metadata": {},
   "source": [
    "Next, we read in the context information. The data is encoded as a *csv* file (*comma-separated values*), which we can easily read with a <code>pandas</code> method. If you don't know <code>pandas</code>: it's a library that handles tabular data (think Excel but done properly). We need to <code>merge</code> the context data with the company names so that we have access to the company names in the context table. "
   ]
  },
  {
   "cell_type": "code",
   "execution_count": 97,
   "id": "912d8528-f8e9-402d-b781-22112634bca5",
   "metadata": {},
   "outputs": [],
   "source": [
    "pat_data=pd.read_csv(\"apat63_99.txt\")\n",
    "pat_names=pd.read_csv(\"aconame.txt\")\n",
    "pat_data=pd.merge(pat_data,pat_names,how='left',left_on=\"ASSIGNEE\",right_on=\"ASSIGNEE\")\n",
    "pat_names.head()"
   ]
  },
  {
   "cell_type": "markdown",
   "id": "31fae74b-ba2a-4c31-8bf8-9d75e15785b6",
   "metadata": {},
   "source": [
    "## Centralities\n",
    "\n",
    "Now let's try out some centrality measures. We go with the simplest first: degree centrality. As citations are not symmetric, we turn to *in-degree* centrality, ie, which are the most cited patents. (Clearly, a patent that is cited by a lot of other patents is important; in contrast, a patent that cites many others is merely depend on lot of others.) \n",
    "\n",
    "We're only interested in the patents with largest in-degree centrality. Quite arbitrarily I've decided ot focus on the 10 patents with largest in-degree centrality. To restrict to these, we sort by centrality value. The centralities themselves are computed by <code>nx.in_degree_centrality(G)</code>, which returns a dictionary. (That is the reason why you see <code>.items()</code> in the code below.) "
   ]
  },
  {
   "cell_type": "code",
   "execution_count": 106,
   "id": "e94ac7e9-1a1f-4d75-828e-f5c8dadaa8c6",
   "metadata": {},
   "outputs": [
    {
     "data": {
      "text/plain": [
       "[('4723129', 0.00020637035345492846),\n",
       " ('4463359', 0.00018968058160940792),\n",
       " ('4740796', 0.00017961373509941143),\n",
       " ('4345262', 0.0001743153948309922),\n",
       " ('4558333', 0.00017325572677730837),\n",
       " ('4313124', 0.00016769246949546818),\n",
       " ('4683195', 0.0001668977184552053),\n",
       " ('4459600', 0.00016239412922704896),\n",
       " ('4683202', 0.00016027479311968128),\n",
       " ('3953566', 0.00010888089251601488)]"
      ]
     },
     "execution_count": 106,
     "metadata": {},
     "output_type": "execute_result"
    }
   ],
   "source": [
    "top_deg_centrality= sorted(nx.in_degree_centrality(G).items(), key=operator.itemgetter(1),reverse=True)[:10]\n",
    "top_deg_centrality"
   ]
  },
  {
   "cell_type": "markdown",
   "id": "9a8c944d-daa5-4a5c-aaf2-1366c57bd672",
   "metadata": {},
   "source": [
    "That is quite unenlightening output. Let's find out at least the patent holders and the years the patent was granted. For that we look up the patent id, the first, number in each list entry."
   ]
  },
  {
   "cell_type": "code",
   "execution_count": 107,
   "id": "2797311f-b3d7-497d-b094-7567dc73989b",
   "metadata": {},
   "outputs": [
    {
     "data": {
      "text/html": [
       "<div>\n",
       "<style scoped>\n",
       "    .dataframe tbody tr th:only-of-type {\n",
       "        vertical-align: middle;\n",
       "    }\n",
       "\n",
       "    .dataframe tbody tr th {\n",
       "        vertical-align: top;\n",
       "    }\n",
       "\n",
       "    .dataframe thead th {\n",
       "        text-align: right;\n",
       "    }\n",
       "</style>\n",
       "<table border=\"1\" class=\"dataframe\">\n",
       "  <thead>\n",
       "    <tr style=\"text-align: right;\">\n",
       "      <th></th>\n",
       "      <th>PATENT</th>\n",
       "      <th>GYEAR</th>\n",
       "      <th>COMPNAME</th>\n",
       "    </tr>\n",
       "  </thead>\n",
       "  <tbody>\n",
       "    <tr>\n",
       "      <th>879900</th>\n",
       "      <td>3953566</td>\n",
       "      <td>1976</td>\n",
       "      <td>W. L. GORE &amp; ASSSOCIATES, INC.</td>\n",
       "    </tr>\n",
       "    <tr>\n",
       "      <th>1239144</th>\n",
       "      <td>4313124</td>\n",
       "      <td>1982</td>\n",
       "      <td>CANON KABUSHIKI KAISHA</td>\n",
       "    </tr>\n",
       "    <tr>\n",
       "      <th>1271239</th>\n",
       "      <td>4345262</td>\n",
       "      <td>1982</td>\n",
       "      <td>CANON KABUSHIKI KAISHA</td>\n",
       "    </tr>\n",
       "    <tr>\n",
       "      <th>1385400</th>\n",
       "      <td>4459600</td>\n",
       "      <td>1984</td>\n",
       "      <td>CANON KABUSHIKI KAISHA</td>\n",
       "    </tr>\n",
       "    <tr>\n",
       "      <th>1389157</th>\n",
       "      <td>4463359</td>\n",
       "      <td>1984</td>\n",
       "      <td>CANON KABUSHIKI KAISHA</td>\n",
       "    </tr>\n",
       "    <tr>\n",
       "      <th>1484000</th>\n",
       "      <td>4558333</td>\n",
       "      <td>1985</td>\n",
       "      <td>CANON KABUSHIKI KAISHA</td>\n",
       "    </tr>\n",
       "    <tr>\n",
       "      <th>1608719</th>\n",
       "      <td>4683195</td>\n",
       "      <td>1987</td>\n",
       "      <td>CETUS CORPORATION</td>\n",
       "    </tr>\n",
       "    <tr>\n",
       "      <th>1608726</th>\n",
       "      <td>4683202</td>\n",
       "      <td>1987</td>\n",
       "      <td>CETUS CORPORATION</td>\n",
       "    </tr>\n",
       "    <tr>\n",
       "      <th>1648595</th>\n",
       "      <td>4723129</td>\n",
       "      <td>1988</td>\n",
       "      <td>CANON KABUSHIKI KAISHA</td>\n",
       "    </tr>\n",
       "    <tr>\n",
       "      <th>1666241</th>\n",
       "      <td>4740796</td>\n",
       "      <td>1988</td>\n",
       "      <td>CANON KABUSHIKI KAISHA</td>\n",
       "    </tr>\n",
       "  </tbody>\n",
       "</table>\n",
       "</div>"
      ],
      "text/plain": [
       "          PATENT  GYEAR                        COMPNAME\n",
       "879900   3953566   1976  W. L. GORE & ASSSOCIATES, INC.\n",
       "1239144  4313124   1982          CANON KABUSHIKI KAISHA\n",
       "1271239  4345262   1982          CANON KABUSHIKI KAISHA\n",
       "1385400  4459600   1984          CANON KABUSHIKI KAISHA\n",
       "1389157  4463359   1984          CANON KABUSHIKI KAISHA\n",
       "1484000  4558333   1985          CANON KABUSHIKI KAISHA\n",
       "1608719  4683195   1987               CETUS CORPORATION\n",
       "1608726  4683202   1987               CETUS CORPORATION\n",
       "1648595  4723129   1988          CANON KABUSHIKI KAISHA\n",
       "1666241  4740796   1988          CANON KABUSHIKI KAISHA"
      ]
     },
     "execution_count": 107,
     "metadata": {},
     "output_type": "execute_result"
    }
   ],
   "source": [
    "cols=[\"PATENT\",\"GYEAR\",\"COMPNAME\"]\n",
    "def lookup(patent_ids):\n",
    "    df=pat_data[pat_data[\"PATENT\"].isin([int(id) for id in patent_ids])]\n",
    "    return df[cols].copy()\n",
    "\n",
    "lookup([id for id,_ in top_deg_centrality])"
   ]
  },
  {
   "cell_type": "markdown",
   "id": "b55babb8-57fe-4cd8-a26b-2cdc01c5b0fe",
   "metadata": {},
   "source": [
    "Canon definitely makes sense. I did not know Cetus, but apparently it's one the first biotech companies and now part of Novartis. The W.L. Gore & associates patent is actually about polymers. By the way, if you want to know more about these patents, look them up on the [site](https://ppubs.uspto.gov/pubwebapp/static/pages/ppubsbasic.html) of the US patent office.\n",
    "\n",
    "Next, let's do *eigenvalue centrality*. Again, the method is readily implemented in <code>networkx</code>."
   ]
  },
  {
   "cell_type": "code",
   "execution_count": 73,
   "id": "72ebaa32-4eb0-4c29-a469-c0b0eaa97d50",
   "metadata": {},
   "outputs": [
    {
     "data": {
      "text/plain": [
       "[('943820', 0.31980107453341566),\n",
       " ('2054306', 0.3198010745334156),\n",
       " ('3971529', 0.31980107453341555),\n",
       " ('2197779', 0.31980107453341555),\n",
       " ('2130581', 0.3198010745334155),\n",
       " ('2859924', 0.2132007163556107),\n",
       " ('2076097', 0.21320071635561058),\n",
       " ('2129386', 0.21320071635561053),\n",
       " ('3226052', 0.21320071635561053),\n",
       " ('2573240', 0.2132007163556105),\n",
       " ('4014422', 0.21320071635561047),\n",
       " ('2492819', 0.21320071635561047),\n",
       " ('4281808', 0.10660035817780533),\n",
       " ('5489070', 0.10660035817780533),\n",
       " ('4179084', 0.10660035817780528),\n",
       " ('3489366', 0.10660035817780526),\n",
       " ('4168812', 0.10660035817780526),\n",
       " ('4369936', 0.10660035817780526),\n",
       " ('1940593', 0.10660035817780525),\n",
       " ('2690310', 0.10660035817780525)]"
      ]
     },
     "execution_count": 73,
     "metadata": {},
     "output_type": "execute_result"
    }
   ],
   "source": [
    "top_eigen_centrality= sorted(nx.eigenvector_centrality_numpy(G).items(), key=operator.itemgetter(1),reverse=True)[:10]\n",
    "top_eigen_centrality"
   ]
  },
  {
   "cell_type": "code",
   "execution_count": 108,
   "id": "786c4f16-4e0b-4860-8fe6-1b68ea44ee00",
   "metadata": {},
   "outputs": [
    {
     "data": {
      "text/html": [
       "<div>\n",
       "<style scoped>\n",
       "    .dataframe tbody tr th:only-of-type {\n",
       "        vertical-align: middle;\n",
       "    }\n",
       "\n",
       "    .dataframe tbody tr th {\n",
       "        vertical-align: top;\n",
       "    }\n",
       "\n",
       "    .dataframe thead th {\n",
       "        text-align: right;\n",
       "    }\n",
       "</style>\n",
       "<table border=\"1\" class=\"dataframe\">\n",
       "  <thead>\n",
       "    <tr style=\"text-align: right;\">\n",
       "      <th></th>\n",
       "      <th>PATENT</th>\n",
       "      <th>GYEAR</th>\n",
       "      <th>COMPNAME</th>\n",
       "    </tr>\n",
       "  </thead>\n",
       "  <tbody>\n",
       "    <tr>\n",
       "      <th>155234</th>\n",
       "      <td>3226052</td>\n",
       "      <td>1965</td>\n",
       "      <td>NaN</td>\n",
       "    </tr>\n",
       "    <tr>\n",
       "      <th>897862</th>\n",
       "      <td>3971529</td>\n",
       "      <td>1976</td>\n",
       "      <td>DEUTSCHE ANGELGERATE MANUFAKTUR  DAM  HELLMUTH -</td>\n",
       "    </tr>\n",
       "  </tbody>\n",
       "</table>\n",
       "</div>"
      ],
      "text/plain": [
       "         PATENT  GYEAR                                          COMPNAME\n",
       "155234  3226052   1965                                               NaN\n",
       "897862  3971529   1976  DEUTSCHE ANGELGERATE MANUFAKTUR  DAM  HELLMUTH -"
      ]
     },
     "execution_count": 108,
     "metadata": {},
     "output_type": "execute_result"
    }
   ],
   "source": [
    "lookup([id for id,_ in top_eigen_centrality)"
   ]
  },
  {
   "cell_type": "markdown",
   "id": "ef1f24ce-f8d6-47b9-a305-a54cdfe1660a",
   "metadata": {},
   "source": [
    "Hmmm, that seems fishy. First, two is clearly not equal to ten -- so what happened to the other eight patents? The reason is that these patents were apparently granted before 1975 and thus only appear as sinks in the data. Also, before 1972 or so, the data do not contain any company names -- that explains the NaN. So what happened here? The citation graph is not connected and certainly not strongly connected. In that case, pure eigenvalue centrality may fail as it may concentrate on a small component of the graph. This seems what has happened here. \n",
    "\n",
    "Instead of eigenvalue centrality let's turn to *pagerank*."
   ]
  },
  {
   "cell_type": "code",
   "execution_count": 109,
   "id": "7912ef66-113b-417e-94b8-74879a62c275",
   "metadata": {},
   "outputs": [
    {
     "data": {
      "text/html": [
       "<div>\n",
       "<style scoped>\n",
       "    .dataframe tbody tr th:only-of-type {\n",
       "        vertical-align: middle;\n",
       "    }\n",
       "\n",
       "    .dataframe tbody tr th {\n",
       "        vertical-align: top;\n",
       "    }\n",
       "\n",
       "    .dataframe thead th {\n",
       "        text-align: right;\n",
       "    }\n",
       "</style>\n",
       "<table border=\"1\" class=\"dataframe\">\n",
       "  <thead>\n",
       "    <tr style=\"text-align: right;\">\n",
       "      <th></th>\n",
       "      <th>PATENT</th>\n",
       "      <th>GYEAR</th>\n",
       "      <th>COMPNAME</th>\n",
       "    </tr>\n",
       "  </thead>\n",
       "  <tbody>\n",
       "    <tr>\n",
       "      <th>621120</th>\n",
       "      <td>3694412</td>\n",
       "      <td>1972</td>\n",
       "      <td>SHELL OIL COMPANY</td>\n",
       "    </tr>\n",
       "    <tr>\n",
       "      <th>629357</th>\n",
       "      <td>3702886</td>\n",
       "      <td>1972</td>\n",
       "      <td>MOBIL OIL CORP.</td>\n",
       "    </tr>\n",
       "    <tr>\n",
       "      <th>980892</th>\n",
       "      <td>4054595</td>\n",
       "      <td>1977</td>\n",
       "      <td>GIST-BROCADES N.V.</td>\n",
       "    </tr>\n",
       "    <tr>\n",
       "      <th>1163351</th>\n",
       "      <td>4237224</td>\n",
       "      <td>1980</td>\n",
       "      <td>STANFORD UNIVERSITY, LELAND JUNIOR, THE BOARD ...</td>\n",
       "    </tr>\n",
       "    <tr>\n",
       "      <th>1239144</th>\n",
       "      <td>4313124</td>\n",
       "      <td>1982</td>\n",
       "      <td>CANON KABUSHIKI KAISHA</td>\n",
       "    </tr>\n",
       "    <tr>\n",
       "      <th>1271239</th>\n",
       "      <td>4345262</td>\n",
       "      <td>1982</td>\n",
       "      <td>CANON KABUSHIKI KAISHA</td>\n",
       "    </tr>\n",
       "    <tr>\n",
       "      <th>1284500</th>\n",
       "      <td>4358535</td>\n",
       "      <td>1982</td>\n",
       "      <td>UNIVERSITY OF WASHINGTON</td>\n",
       "    </tr>\n",
       "    <tr>\n",
       "      <th>1293878</th>\n",
       "      <td>4367924</td>\n",
       "      <td>1983</td>\n",
       "      <td>NaN</td>\n",
       "    </tr>\n",
       "    <tr>\n",
       "      <th>1320361</th>\n",
       "      <td>4394443</td>\n",
       "      <td>1983</td>\n",
       "      <td>YALE UNIVERSITY</td>\n",
       "    </tr>\n",
       "    <tr>\n",
       "      <th>1343955</th>\n",
       "      <td>4418068</td>\n",
       "      <td>1983</td>\n",
       "      <td>ELI LILLY AND COMPANY</td>\n",
       "    </tr>\n",
       "    <tr>\n",
       "      <th>1389157</th>\n",
       "      <td>4463359</td>\n",
       "      <td>1984</td>\n",
       "      <td>CANON KABUSHIKI KAISHA</td>\n",
       "    </tr>\n",
       "    <tr>\n",
       "      <th>1484000</th>\n",
       "      <td>4558333</td>\n",
       "      <td>1985</td>\n",
       "      <td>CANON KABUSHIKI KAISHA</td>\n",
       "    </tr>\n",
       "    <tr>\n",
       "      <th>1600816</th>\n",
       "      <td>4675285</td>\n",
       "      <td>1987</td>\n",
       "      <td>GENETICS INSTITUTE, INC.</td>\n",
       "    </tr>\n",
       "    <tr>\n",
       "      <th>1608719</th>\n",
       "      <td>4683195</td>\n",
       "      <td>1987</td>\n",
       "      <td>CETUS CORPORATION</td>\n",
       "    </tr>\n",
       "    <tr>\n",
       "      <th>1608726</th>\n",
       "      <td>4683202</td>\n",
       "      <td>1987</td>\n",
       "      <td>CETUS CORPORATION</td>\n",
       "    </tr>\n",
       "    <tr>\n",
       "      <th>1648595</th>\n",
       "      <td>4723129</td>\n",
       "      <td>1988</td>\n",
       "      <td>CANON KABUSHIKI KAISHA</td>\n",
       "    </tr>\n",
       "    <tr>\n",
       "      <th>1666241</th>\n",
       "      <td>4740796</td>\n",
       "      <td>1988</td>\n",
       "      <td>CANON KABUSHIKI KAISHA</td>\n",
       "    </tr>\n",
       "    <tr>\n",
       "      <th>1737913</th>\n",
       "      <td>4812599</td>\n",
       "      <td>1989</td>\n",
       "      <td>PIONEER HI-BRED INTERNATIONAL, INC.</td>\n",
       "    </tr>\n",
       "    <tr>\n",
       "      <th>1806017</th>\n",
       "      <td>4880804</td>\n",
       "      <td>1989</td>\n",
       "      <td>E. I. DU PONT DE NEMOURS AND COMPANY</td>\n",
       "    </tr>\n",
       "    <tr>\n",
       "      <th>1970122</th>\n",
       "      <td>5045417</td>\n",
       "      <td>1991</td>\n",
       "      <td>HITACHI, LTD</td>\n",
       "    </tr>\n",
       "  </tbody>\n",
       "</table>\n",
       "</div>"
      ],
      "text/plain": [
       "          PATENT  GYEAR                                           COMPNAME\n",
       "621120   3694412   1972                                  SHELL OIL COMPANY\n",
       "629357   3702886   1972                                    MOBIL OIL CORP.\n",
       "980892   4054595   1977                                 GIST-BROCADES N.V.\n",
       "1163351  4237224   1980  STANFORD UNIVERSITY, LELAND JUNIOR, THE BOARD ...\n",
       "1239144  4313124   1982                             CANON KABUSHIKI KAISHA\n",
       "1271239  4345262   1982                             CANON KABUSHIKI KAISHA\n",
       "1284500  4358535   1982                           UNIVERSITY OF WASHINGTON\n",
       "1293878  4367924   1983                                                NaN\n",
       "1320361  4394443   1983                                    YALE UNIVERSITY\n",
       "1343955  4418068   1983                              ELI LILLY AND COMPANY\n",
       "1389157  4463359   1984                             CANON KABUSHIKI KAISHA\n",
       "1484000  4558333   1985                             CANON KABUSHIKI KAISHA\n",
       "1600816  4675285   1987                           GENETICS INSTITUTE, INC.\n",
       "1608719  4683195   1987                                  CETUS CORPORATION\n",
       "1608726  4683202   1987                                  CETUS CORPORATION\n",
       "1648595  4723129   1988                             CANON KABUSHIKI KAISHA\n",
       "1666241  4740796   1988                             CANON KABUSHIKI KAISHA\n",
       "1737913  4812599   1989                PIONEER HI-BRED INTERNATIONAL, INC.\n",
       "1806017  4880804   1989               E. I. DU PONT DE NEMOURS AND COMPANY\n",
       "1970122  5045417   1991                                       HITACHI, LTD"
      ]
     },
     "execution_count": 109,
     "metadata": {},
     "output_type": "execute_result"
    }
   ],
   "source": [
    "top_pagerank= sorted(nx.pagerank(G).items(), key=operator.itemgetter(1),reverse=True)[:20]\n",
    "lookup([id for id,_ in top_pagerank])"
   ]
  },
  {
   "cell_type": "markdown",
   "id": "9f3d153b-8d28-4811-8dfa-d07b4e59f550",
   "metadata": {},
   "source": [
    "That is better. I've looked up the Hitachi patent -- that's on lithographic method to manufacture computer chips, certainly an important patent.\n",
    "\n",
    "If you look at the <code>networkx</code> [documentation](https://networkx.org/documentation/stable/reference/algorithms/centrality.html) you'll find many more implemented centrality measures. I did not run more because I was a bit afraid that the running time would explode as the graph is not small. Feel free to experiment, though.\n",
    "\n",
    "A final word: What I've done here makes no sense whatsoever. I've you're really interested in identifying the most important patents -- then you'd always restrict to a certain *field*. That is, you'd try to identify the most important patent in micro electronics, or about vaccines or whatever. The data here comes with a bit of information about the field but that is quite course information. For a serious application we'd need to download the actual contents of the patents and filter out the ones in the field we want to focus on."
   ]
  }
 ],
 "metadata": {
  "kernelspec": {
   "display_name": "Python 3 (ipykernel)",
   "language": "python",
   "name": "python3"
  },
  "language_info": {
   "codemirror_mode": {
    "name": "ipython",
    "version": 3
   },
   "file_extension": ".py",
   "mimetype": "text/x-python",
   "name": "python",
   "nbconvert_exporter": "python",
   "pygments_lexer": "ipython3",
   "version": "3.12.2"
  }
 },
 "nbformat": 4,
 "nbformat_minor": 5
}
