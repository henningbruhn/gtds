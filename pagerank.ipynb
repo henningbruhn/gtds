{
 "cells": [
  {
   "cell_type": "markdown",
   "id": "004f24e2-62ea-442b-8318-02fe674d417e",
   "metadata": {},
   "source": [
    "# PageRank\n",
    "\n",
    "Let's implement PageRank and test it with a small web graph.\n",
    "\n",
    "First some imports."
   ]
  },
  {
   "cell_type": "code",
   "execution_count": 1,
   "id": "8a671a78-504b-4445-bc8a-43afec7ec10f",
   "metadata": {},
   "outputs": [],
   "source": [
    "import math\n",
    "import time\n",
    "import networkx as nx # graphs\n",
    "import numpy as np  # scientific computing, array class\n",
    "import scipy.sparse as sp  # sparse matrices\n",
    "import matplotlib.pyplot as plt # plotting\n",
    "plt.style.use(\"seaborn-v0_8\") # let's have nice plots"
   ]
  },
  {
   "cell_type": "markdown",
   "id": "1cda6d99-7bab-4fbe-915a-b4e6da8cd394",
   "metadata": {},
   "source": [
    "We download a very small part of the web from 2008 (?): namely the web of Berkley and Stanford University websites. See [here](https://networkrepository.com/web-BerkStan-dir.php) for more details. \n",
    "\n",
    "If you run this on your own Windows machine (rather than on Colab), you may need to [download](https://networkrepository.com/web-BerkStan-dir.php) the data manually. In that case, comment out the next cell. If you run this on your own Linux machine -- nice! Also, just run the next cell. (Apple may work as well.)"
   ]
  },
  {
   "cell_type": "code",
   "execution_count": null,
   "id": "ecf036c8-720d-4437-a1c9-509fc096e3d3",
   "metadata": {},
   "outputs": [],
   "source": [
    "!wget -q --show-progress https://nrvis.com/download/data/web/web-BerkStan-dir.zip\n",
    "!unzip -q web-BerkStan-dir.zip"
   ]
  },
  {
   "cell_type": "markdown",
   "id": "0eafc9e8-2a92-4cbc-b1ec-892219d4be16",
   "metadata": {},
   "source": [
    "Let's have a peek into the data."
   ]
  },
  {
   "cell_type": "code",
   "execution_count": 2,
   "id": "0a438fcb-9e29-4c61-a107-2ee83acc44a8",
   "metadata": {},
   "outputs": [
    {
     "name": "stdout",
     "output_type": "stream",
     "text": [
      "% asym unweighted\n",
      "% 7600595 680486 617094\n",
      "1 2 \n",
      "1 3 \n",
      "1 4 \n",
      "1 5 \n",
      "1 6 \n",
      "1 7 \n",
      "1 8 \n",
      "1 9 \n"
     ]
    }
   ],
   "source": [
    "counter=0\n",
    "with open(\"web-BerkStan-dir.edges\",'r') as f:\n",
    "    for line in f:\n",
    "        print(line[:-1])\n",
    "        counter=counter+1\n",
    "        if counter==10:\n",
    "            break"
   ]
  },
  {
   "cell_type": "markdown",
   "id": "b7839f3b-d904-4777-9511-071a169fa6ac",
   "metadata": {},
   "source": [
    "Aha. So, first two lines are comments, then it's a list of edges, where the endvertices are separated by a space. "
   ]
  },
  {
   "cell_type": "code",
   "execution_count": 3,
   "id": "c6c6040f-bcd5-4510-8cef-e76c5ab872cb",
   "metadata": {},
   "outputs": [
    {
     "data": {
      "text/plain": [
       "(685230, 7600595, 1.6187339985957948e-05)"
      ]
     },
     "execution_count": 3,
     "metadata": {},
     "output_type": "execute_result"
    }
   ],
   "source": [
    "G=nx.read_adjlist(\"web-BerkStan-dir.edges\",delimiter=' ',comments='%',create_using=nx.DiGraph)\n",
    "G.number_of_nodes(),G.number_of_edges(),nx.density(G)"
   ]
  },
  {
   "cell_type": "markdown",
   "id": "4d26422c-d5c9-412c-bdf9-ecfe9b4c1ede",
   "metadata": {},
   "source": [
    "So, that graph is already rather large. Just to see what's going on, let's also define a small sample digraph."
   ]
  },
  {
   "cell_type": "code",
   "execution_count": 4,
   "id": "87b4811c-e556-4630-9c7e-0b90a91cb0dd",
   "metadata": {},
   "outputs": [
    {
     "data": {
      "image/png": "[encoded data removed]",
      "text/plain": [
       "<Figure size 400x200 with 1 Axes>"
      ]
     },
     "metadata": {},
     "output_type": "display_data"
    }
   ],
   "source": [
    "def sample_digraph():\n",
    "    D=nx.DiGraph()\n",
    "    D.add_edge(0,'1') # why the 1 as a string? Because then it makes a difference whether it's the node number or the node name\n",
    "    D.add_edge('1',2)\n",
    "    D.add_edge(3,2)\n",
    "    D.add_edge(3,0)\n",
    "    D.add_edge(0,2)\n",
    "    D.add_edge(0,4)\n",
    "    D.add_edge(5,4)\n",
    "    # position dictionary for drawing\n",
    "    pos={0:(1,1),'1':(1,0),2:(0,0),3:(0,1),4:(2,1),5:(2,0)}\n",
    "    D.pos=pos\n",
    "    return D\n",
    "\n",
    "D=sample_digraph()\n",
    "fig,ax=plt.subplots(figsize=(4,2))\n",
    "nx.draw(D,pos=D.pos,ax=ax,with_labels=True)"
   ]
  },
  {
   "cell_type": "markdown",
   "id": "f5bc1f40-6048-4f34-be52-b210612a70c7",
   "metadata": {},
   "source": [
    "We look at the adjacency matrix of this toy graph."
   ]
  },
  {
   "cell_type": "code",
   "execution_count": 5,
   "id": "5ba1c526-0e4e-4a72-8ff4-66e3b25f3f8c",
   "metadata": {},
   "outputs": [
    {
     "data": {
      "text/plain": [
       "array([[0, 1, 1, 0, 1, 0],\n",
       "       [0, 0, 1, 0, 0, 0],\n",
       "       [0, 0, 0, 0, 0, 0],\n",
       "       [1, 0, 1, 0, 0, 0],\n",
       "       [0, 0, 0, 0, 0, 0],\n",
       "       [0, 0, 0, 0, 1, 0]])"
      ]
     },
     "execution_count": 5,
     "metadata": {},
     "output_type": "execute_result"
    }
   ],
   "source": [
    "nx.adjacency_matrix(sample_digraph()).toarray()"
   ]
  },
  {
   "cell_type": "markdown",
   "id": "e3ff6f5e-868a-4706-972c-136811b0c4f9",
   "metadata": {},
   "source": [
    "What we see: There is a 1 if row->column, ie, if the vertex corresponding to the row has an *out-going* edge to the column-vertex. For the transition matrix, we'll need to have non-zero entry when there is an *in-going* edge. That is, we'll need to take the transpose when we compute the transition matrix.\n",
    "\n",
    "So, how do we compute the transition matrix? We start with the (transpose of the) adjacency matrix, and then need to replace the 1-entries by the inverse of the out-degree. We could now step through the non-zero entries of the adjacency matrix (with a <code>for</code>-loop) and write in $1/d^+(v)$. That, however, takes forever. Why? Because that's then pure python-code and python is slow. It's much faster, if we set up a diagonal matrix and then use matrix multiplication -- that is implemented in C and thus a lot faster. There are two more issues. First, some vertex may be a *sink*, a vertex without any out-going edge. There, $1/d^+(v)$ would be infinite, which is bad. Thus, we need to make sure that we fill in a zero for every sink. We do that with a bit of <code>numpy</code> magic; see [here](https://numpy.org/doc/stable/reference/generated/numpy.divide.html). Second, the adjacency is a *sparse* matrix. That means, only the non-zero entries are stored (which is good, because we have a lot of vertices). For that reason we also set up a *sparse* diagonal matrix. (Probably not necessary, but I was too lazy to check.)"
   ]
  },
  {
   "cell_type": "code",
   "execution_count": 6,
   "id": "6ac67cc5-6d3e-4792-bbfe-fd206a1222f0",
   "metadata": {},
   "outputs": [
    {
     "data": {
      "text/plain": [
       "array([[0.   , 0.   , 0.   , 0.5  , 0.   , 0.   ],\n",
       "       [0.333, 0.   , 0.   , 0.   , 0.   , 0.   ],\n",
       "       [0.333, 1.   , 0.   , 0.5  , 0.   , 0.   ],\n",
       "       [0.   , 0.   , 0.   , 0.   , 0.   , 0.   ],\n",
       "       [0.333, 0.   , 0.   , 0.   , 0.   , 1.   ],\n",
       "       [0.   , 0.   , 0.   , 0.   , 0.   , 0.   ]])"
      ]
     },
     "execution_count": 6,
     "metadata": {},
     "output_type": "execute_result"
    }
   ],
   "source": [
    "def get_transition_matrix(digraph):\n",
    "    T=nx.adjacency_matrix(digraph,dtype='float').T # take the transpose; also matrix should contain float entries, not integer entries\n",
    "    out_degrees=np.array([d for _,d in digraph.out_degree],dtype='float')\n",
    "    D=sp.diags(np.divide(1.,out_degrees,out=np.zeros_like(out_degrees), where=out_degrees!=0)) # diagonal matrix of reciprocal out-degrees\n",
    "    return T@D\n",
    "\n",
    "# let's try out with the toy graph\n",
    "np.round(get_transition_matrix(sample_digraph()).toarray(),3)"
   ]
  },
  {
   "cell_type": "markdown",
   "id": "8def84d6-2d22-41dc-9233-f8b2bc7a9052",
   "metadata": {},
   "source": [
    "Seems fine for the toy graph.\n",
    "\n",
    "Next, we implement a uniform start distribution (see <code>uniform</code>) and the actual iteration with the page rank matrix\n",
    "$$\n",
    "P=(1-\\alpha)T+\\alpha\\tfrac{1}{n}J\n",
    "$$\n",
    "in the method <code>iterate</code>. \n",
    "\n",
    "There's one hick: Probability mass is lost in sinks. Indeed, if you think about the random process, when the surfer ends up in a sink then it breaks down. Where is the surfer supposed to go in the next step? The solution is as follows: in the next step the surfer chooses any vertex uniformly at random to continue their journey. We could fix that by filling in $\\tfrac{1}{n}1$ in every sink-column of $T$. That, however, is uneccessary computation time as we can simply record the sinks then determine the *lost* probability mass as follows\n",
    "$$\n",
    "\\text{lost}=\\sum_{s \\text{ sink}}\\pi^{(i)}_s\n",
    "$$\n",
    "We then add $\\text{lost}/n$ to every entry of the distribution (well, weighted with $1-\\alpha$ as this is lost in $(1-\\alpha)T\\pi^{(i-1)}$).\n",
    "\n",
    "Finally, we keep track of \n",
    "$$\n",
    "||\\pi^{(i-1)}-\\pi^{(i)}||\n",
    "$$\n",
    "to see whether the iteration converges."
   ]
  },
  {
   "cell_type": "code",
   "execution_count": 7,
   "id": "5fc00eb4-2e20-483e-87e3-fb8f67cff421",
   "metadata": {},
   "outputs": [
    {
     "name": "stdout",
     "output_type": "stream",
     "text": [
      "computing transition matrix...done: 10s\n",
      "\n",
      "start iteration...done: 0s\n"
     ]
    }
   ],
   "source": [
    "def uniform(digraph):\n",
    "    n=digraph.number_of_nodes()\n",
    "    return np.ones(n)/n    \n",
    "\n",
    "def __iterate(T,sinks,pi,alpha,steps,chatty=True):\n",
    "    \"\"\"\n",
    "    sinks: array with indices of zero columns\n",
    "    \"\"\"\n",
    "    diffs=[]\n",
    "    n=len(pi)\n",
    "    if chatty:\n",
    "        start=time.time()\n",
    "        print(\"start iteration...\",end='')\n",
    "    for _ in range(steps):\n",
    "        lost_mass=np.sum(pi[sinks]) # lost probability mass due to sinks\n",
    "        new_pi=(1-alpha)*(T@pi)+alpha/n+(1-alpha)*lost_mass/n\n",
    "        diffs.append(math.sqrt(((pi-new_pi)**2).sum()))\n",
    "        pi=new_pi\n",
    "    if chatty:\n",
    "        print(\"done: {:.0f}s\".format(time.time()-start))\n",
    "    return pi,diffs\n",
    "\n",
    "def iterate(digraph,steps,alpha=0.15,pi=None,chatty=True):\n",
    "    if chatty:\n",
    "        start=time.time()\n",
    "        print(\"computing transition matrix...\",end='')\n",
    "    T=get_transition_matrix(digraph)\n",
    "    if chatty:\n",
    "        print(\"done: {:.0f}s\".format(time.time()-start))\n",
    "    print()\n",
    "    # find the sinks. note: we need the column indices, not the _names_ of the nodes\n",
    "    sinks=[i for i,v in enumerate(digraph.nodes) if digraph.out_degree[v]==0]\n",
    "    if pi is None:\n",
    "        pi=uniform(digraph)\n",
    "    return __iterate(T,sinks,pi,alpha,steps,chatty=chatty)\n",
    "\n",
    "# run the computation for 20 steps\n",
    "pi_star,diffs=iterate(G,20)"
   ]
  },
  {
   "cell_type": "markdown",
   "id": "9f2ee55d-c893-41f7-960a-b8a081cf0a25",
   "metadata": {},
   "source": [
    "That didn't take too long. We plot the differences $||\\pi^{(i-1)}-\\pi^{(i)}||$ to see whether the distribution converges."
   ]
  },
  {
   "cell_type": "code",
   "execution_count": 8,
   "id": "ace2e25d-8c37-4afb-bcfe-1c2dcf7be054",
   "metadata": {},
   "outputs": [
    {
     "data": {
      "text/plain": [
       "Text(0.5, 1.0, 'convergence of distribution')"
      ]
     },
     "execution_count": 8,
     "metadata": {},
     "output_type": "execute_result"
    },
    {
     "data": {
      "image/png": "[encoded data removed]",
      "text/plain": [
       "<Figure size 600x400 with 1 Axes>"
      ]
     },
     "metadata": {},
     "output_type": "display_data"
    }
   ],
   "source": [
    "fig,ax=plt.subplots(figsize=(6,4))\n",
    "ax.plot(range(1,len(diffs)+1),diffs)\n",
    "ax.set_xticks(range(0,len(diffs)+1,5))\n",
    "ax.set_xlabel(\"iteration\")\n",
    "ax.set_ylabel(\"diff to predecessor\")\n",
    "ax.set_title(\"convergence of distribution\")"
   ]
  },
  {
   "cell_type": "markdown",
   "id": "8526fd2f-ee78-4509-971f-99895cebb00e",
   "metadata": {},
   "source": [
    "Very nice and fast convergence. \n",
    "\n",
    "Let's also look at the entries of the limit distribution $\\pi^*$."
   ]
  },
  {
   "cell_type": "code",
   "execution_count": 9,
   "id": "c4cc1943-7fc6-4657-af9a-9243ed3f0df5",
   "metadata": {},
   "outputs": [
    {
     "data": {
      "text/plain": [
       "Text(0.5, 0, 'probability')"
      ]
     },
     "execution_count": 9,
     "metadata": {},
     "output_type": "execute_result"
    },
    {
     "data": {
      "image/png": "[encoded data removed]",
      "text/plain": [
       "<Figure size 600x400 with 1 Axes>"
      ]
     },
     "metadata": {},
     "output_type": "display_data"
    }
   ],
   "source": [
    "fig,ax=plt.subplots(figsize=(6,4))\n",
    "ax.hist(pi_star,log=True,edgecolor='k',bins=20)\n",
    "ax.set_title(\"histogram of limit distribution\")\n",
    "ax.set_ylabel(\"number of entries\")\n",
    "ax.set_xlabel(\"probability\")"
   ]
  },
  {
   "cell_type": "markdown",
   "id": "abdc9b88-cd1f-46b5-aa3a-500eaa42c9ac",
   "metadata": {},
   "source": [
    "What we see: most entries have a very small probability; only a few have larger probabilities. That's really what we would expect: a few sites (the landing page, for instance) dominate the others."
   ]
  }
 ],
 "metadata": {
  "kernelspec": {
   "display_name": "Python 3 (ipykernel)",
   "language": "python",
   "name": "python3"
  },
  "language_info": {
   "codemirror_mode": {
    "name": "ipython",
    "version": 3
   },
   "file_extension": ".py",
   "mimetype": "text/x-python",
   "name": "python",
   "nbconvert_exporter": "python",
   "pygments_lexer": "ipython3",
   "version": "3.12.2"
  }
 },
 "nbformat": 4,
 "nbformat_minor": 5
}
