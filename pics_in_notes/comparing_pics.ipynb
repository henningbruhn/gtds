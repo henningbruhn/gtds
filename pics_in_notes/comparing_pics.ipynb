{
 "cells": [
  {
   "cell_type": "markdown",
   "id": "6b9bab6b-d0ea-4375-8c54-2c0ab0876c26",
   "metadata": {},
   "source": [
    "# Rand distance and Variation of Information -- pics in notes\n",
    "\n",
    "Let us compare Rand distance with Variation of Information, two metrics for clusterings.\n",
    "\n",
    "For two clusterings $\\mathcal A$ and $\\mathcal B$ of the same finite ground set $V$ of cardinality $n$, *Rand distance* is defined as\n",
    "$$\n",
    "\\text{Rand}(\\mathcal A,\\mathcal B)=\\frac{\\#\\text{disagreements}}{{n\\choose 2}},\n",
    "$$\n",
    "where a *disagreement* is a pair $u,v\\in V$ of elements that are clustered together in $\\mathcal A$ but not in $\\mathcal B$, or vice versa.\n",
    "\n",
    "For the variation of information, we first define the *entropy* of $\\mathcal A$\n",
    "$$\n",
    "H(\\mathcal A)=-\\sum_{A\\in\\mathcal A}\\frac{|A|}{n}\\log_2\\left(\\frac{|A|}{n}\\right)\n",
    "$$\n",
    "and the *joint entropy* of $\\mathcal A$ and $\\mathcal B$ \n",
    "$$\n",
    "H(\\mathcal A,\\mathcal B)=-\\sum_{A\\in\\mathcal A,B\\in\\mathcal B}\\frac{|A\\cap B|}{n}\\log_2\\left(\\frac{|A\\cap B|}{n}\\right)\n",
    "$$\n",
    "Then the *variation of information* is\n",
    "$$\n",
    "\\text{VI}(\\mathcal A,\\mathcal B)=2H(\\mathcal A,\\mathcal B)-H(\\mathcal A)-H(\\mathcal B)\n",
    "$$\n"
   ]
  },
  {
   "cell_type": "code",
   "execution_count": 1,
   "id": "f1fb8587-faf7-4512-a309-55b1b13dedc0",
   "metadata": {},
   "outputs": [],
   "source": [
    "import numpy as np\n",
    "from collections import Counter\n",
    "import math\n",
    "import matplotlib.pyplot as plt\n",
    "plt.style.use(\"lecture.mplstyle\")"
   ]
  },
  {
   "cell_type": "markdown",
   "id": "1d6cde57-f39c-430e-982b-2defcb0b2666",
   "metadata": {},
   "source": [
    "We first implement Rand distance. We encode clusters by an array such as <code>[0,0,1,2,0,2]</code> with one entry per element of the ground set, where the entry designates the cluster that contains the element. That is, <code>[0,0,1,2,0,2]</code> encodes the clustering $\\{\\{1,2,5\\},\\{3\\},\\{4,6\\}\\}$. \n",
    "\n",
    "The <code>Counter</code> class helps a lot, as it allows us to determine the cluster sizes in a painless way. Documentation [here.](https://docs.python.org/3/library/collections.html#collections.Counter) \n",
    "\n",
    "We test the implementation by observing that the sum of the distance of any clustering to the singletons clustering and to the all-in-one clustering always gives 1."
   ]
  },
  {
   "cell_type": "code",
   "execution_count": 2,
   "id": "95e2a7c6-07bd-4624-ac3e-089de061d124",
   "metadata": {},
   "outputs": [
    {
     "data": {
      "text/plain": [
       "1.0"
      ]
     },
     "execution_count": 2,
     "metadata": {},
     "output_type": "execute_result"
    }
   ],
   "source": [
    "def sum_choose_2(sizes):\n",
    "    return sum([size*(size-1)/2 for size in sizes])\n",
    "\n",
    "def rand(A,B):\n",
    "    \"\"\"we assume the clusterings A,B to be encoded as lists \n",
    "    s.t. if entry i is k then the ith element of the ground set is in cluster k\"\"\"\n",
    "    sizes_AB=Counter(zip(A,B))\n",
    "    sizes_A=Counter(A)\n",
    "    sizes_B=Counter(B)\n",
    "    factor=2/(len(A)*(len(A)-1))\n",
    "    return (sum_choose_2(sizes_A.values())+sum_choose_2(sizes_B.values())-2*sum_choose_2(sizes_AB.values()))*factor\n",
    "\n",
    "n=5\n",
    "singletons=range(n)\n",
    "all_in_one=[0]*n\n",
    "sample=([0]*math.floor(n/2))+([1]*math.ceil(n/2))\n",
    "rand(singletons,sample)+rand(all_in_one,sample) # should give 1"
   ]
  },
  {
   "cell_type": "markdown",
   "id": "f4791395-329e-44e6-8df8-0a7dba360a58",
   "metadata": {},
   "source": [
    "Next, we implement variation of information. We check that the variation of information between the singletons clustering and the all-in-one clustering is equal to $\\log n$."
   ]
  },
  {
   "cell_type": "code",
   "execution_count": 3,
   "id": "cb59c39f-f6f3-4cbd-901b-62a6a9961966",
   "metadata": {},
   "outputs": [
    {
     "data": {
      "text/plain": [
       "(2.321928094887362, 2.321928094887362)"
      ]
     },
     "execution_count": 3,
     "metadata": {},
     "output_type": "execute_result"
    }
   ],
   "source": [
    "def safe_xlogx(x):\n",
    "    if x==0:\n",
    "        return 0\n",
    "    return x*math.log(x,2)\n",
    "\n",
    "def joint_entropy(A,B):\n",
    "    return entropy(list(zip(A,B)))\n",
    "\n",
    "def entropy(A):\n",
    "    sizes_A=Counter(A)\n",
    "    n=len(A)\n",
    "    # not optimised for speed -- would be faster if implemented with numpy.where\n",
    "    return -sum([safe_xlogx(size/n) for size in sizes_A.values()])\n",
    "\n",
    "def VI(A,B):\n",
    "    return 2*joint_entropy(A,B)-entropy(A)-entropy(B)\n",
    "\n",
    "VI(singletons,all_in_one),math.log(n,2)"
   ]
  },
  {
   "cell_type": "markdown",
   "id": "0fc60cb9-db0e-447d-b6ef-d8d38cd34fea",
   "metadata": {},
   "source": [
    "Next, we generate all partitions of $\\{0,1,\\ldots, n-1\\}$. This is not the most efficient algorithm (for that we should probably consult Knuth's *The Art of Programming*), but it's concise and efficient enough for our purpose."
   ]
  },
  {
   "cell_type": "code",
   "execution_count": 4,
   "id": "a924cd9b-dcb1-4445-b612-621d03eaef19",
   "metadata": {},
   "outputs": [
    {
     "data": {
      "text/plain": [
       "[[0, 1, 2, 3],\n",
       " [0, 0, 1, 2],\n",
       " [0, 1, 0, 2],\n",
       " [0, 1, 1, 2],\n",
       " [0, 0, 0, 1],\n",
       " [0, 1, 2, 0],\n",
       " [0, 1, 2, 1],\n",
       " [0, 1, 2, 2],\n",
       " [0, 0, 1, 0],\n",
       " [0, 0, 1, 1],\n",
       " [0, 1, 0, 0],\n",
       " [0, 1, 0, 1],\n",
       " [0, 1, 1, 0],\n",
       " [0, 1, 1, 1],\n",
       " [0, 0, 0, 0]]"
      ]
     },
     "execution_count": 4,
     "metadata": {},
     "output_type": "execute_result"
    }
   ],
   "source": [
    "def all_partitions(n):\n",
    "    if n==1:\n",
    "        return [[0]] \n",
    "    smaller=all_partitions(n-1)\n",
    "    result=[partition+[max(partition)+1] for partition in smaller]\n",
    "    for partition in smaller:\n",
    "        num_cluster=max(partition)+1\n",
    "        result.extend([partition+[c] for c in range(num_cluster)])\n",
    "    return result\n",
    "\n",
    "ap=all_partitions(4)\n",
    "ap"
   ]
  },
  {
   "cell_type": "markdown",
   "id": "6c094ffe-8bab-4676-985e-e6fd429a7776",
   "metadata": {},
   "source": [
    "Next, let's compute how many clusterings are closer to the singletons clustering than to the all-in-one clustering. "
   ]
  },
  {
   "cell_type": "code",
   "execution_count": 5,
   "id": "148227db-fb05-4476-9c91-a7db978c638e",
   "metadata": {},
   "outputs": [
    {
     "name": "stdout",
     "output_type": "stream",
     "text": [
      "running time: 0.0s\n",
      "function              : rand\n",
      "  closer to singletons: 46\n",
      "  closer to one bag   : 6\n",
      "  same distance       : 0\n",
      "  total number        : 52\n"
     ]
    },
    {
     "data": {
      "text/plain": [
       "(5, 46, 6, 0, 52, 0.001806020736694336)"
      ]
     },
     "execution_count": 5,
     "metadata": {},
     "output_type": "execute_result"
    }
   ],
   "source": [
    "import time\n",
    "\n",
    "def compute_pull(n,distance=VI,chatty=True):\n",
    "    start=time.time()\n",
    "    singletons=list(range(n))\n",
    "    onebag=[0]*n\n",
    "    all_=all_partitions(n)\n",
    "    closer_onebag=0\n",
    "    closer_singletons=0\n",
    "    for p in all_:\n",
    "        dist_onebag=distance(p,onebag)\n",
    "        dist_singletons=distance(p,singletons)\n",
    "        if dist_singletons<dist_onebag:\n",
    "            closer_singletons+=1\n",
    "        elif dist_singletons>dist_onebag:\n",
    "            closer_onebag+=1\n",
    "    same=len(all_)-closer_onebag-closer_singletons\n",
    "    end=time.time()\n",
    "    if chatty:\n",
    "        print(\"running time: {:.1f}s\".format(end-start))\n",
    "        print(\"function              : {}\".format(distance.__name__))\n",
    "        print(\"  closer to singletons: {}\".format(closer_singletons))\n",
    "        print(\"  closer to one bag   : {}\".format(closer_onebag))\n",
    "        print(\"  same distance       : {}\".format(same))\n",
    "        print(\"  total number        : {}\".format(len(all_)))\n",
    "    return (n,closer_singletons,closer_onebag,same,len(all_),end-start)\n",
    "\n",
    "compute_pull(5,distance=rand)"
   ]
  },
  {
   "cell_type": "markdown",
   "id": "e7167252-1191-47f1-9554-e7233ffaa39e",
   "metadata": {},
   "source": [
    "Now let's compare the distances systematically. "
   ]
  },
  {
   "cell_type": "code",
   "execution_count": 6,
   "id": "5bc45269-4446-47bb-843a-69d8ca82e808",
   "metadata": {},
   "outputs": [],
   "source": [
    "N=12\n",
    "result_rand=[]\n",
    "for n in range(3,N):\n",
    "    result_rand.append(compute_pull(n,distance=rand,chatty=False))\n",
    "result_rand=np.array(result_rand)\n",
    "\n",
    "result_VI=[]\n",
    "for n in range(3,N):\n",
    "    result_VI.append(compute_pull(n,distance=VI,chatty=False))\n",
    "result_VI=np.array(result_VI)"
   ]
  },
  {
   "cell_type": "markdown",
   "id": "7494c9c7-d8a6-4290-90b7-ed28ae745e86",
   "metadata": {},
   "source": [
    "We plot the results."
   ]
  },
  {
   "cell_type": "code",
   "execution_count": 21,
   "id": "3d0c31ae-d7ed-440f-a764-fe41078d6055",
   "metadata": {},
   "outputs": [
    {
     "data": {
      "image/png": "[encoded data removed]",
      "text/plain": [
       "<Figure size 500x300 with 1 Axes>"
      ]
     },
     "metadata": {},
     "output_type": "display_data"
    }
   ],
   "source": [
    "fig,ax=plt.subplots(figsize=(5,3))\n",
    "ax.plot(result_rand[:,0],result_rand[:,2]/result_rand[:,4],\"kv-\",label=\"Rand\")\n",
    "ax.plot(result_VI[:,0],result_VI[:,2]/result_VI[:,4],\"ko--\",label=\"VI\")\n",
    "ax.set_ylim(-0.025,0.425)\n",
    "ax.legend(fontsize=14)\n",
    "ax.set_xlabel(\"$n$\")\n",
    "ax.set_ylabel(\"proportion\")\n",
    "plt.tight_layout()\n",
    "plt.savefig(\"singletons.png\",dpi=300)"
   ]
  },
  {
   "cell_type": "markdown",
   "id": "ad1db29e-2fc3-4045-94b7-fb6eb7c29dff",
   "metadata": {},
   "source": [
    "What we see: The proportion of clusterings that are closer to the all-in-one clustering than to the singletons clustering falls quite a lot faster for Rand distance."
   ]
  }
 ],
 "metadata": {
  "kernelspec": {
   "display_name": "Python 3 (ipykernel)",
   "language": "python",
   "name": "python3"
  },
  "language_info": {
   "codemirror_mode": {
    "name": "ipython",
    "version": 3
   },
   "file_extension": ".py",
   "mimetype": "text/x-python",
   "name": "python",
   "nbconvert_exporter": "python",
   "pygments_lexer": "ipython3",
   "version": "3.12.2"
  }
 },
 "nbformat": 4,
 "nbformat_minor": 5
}
